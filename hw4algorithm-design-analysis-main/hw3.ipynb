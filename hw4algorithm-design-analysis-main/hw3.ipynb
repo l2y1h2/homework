{
 "cells": [
  {
   "cell_type": "markdown",
   "metadata": {},
   "source": [
    "## algorithm design and anlysis-2025 spring  homework 3\n",
    "**Deadline**：2025.5.14\n",
    "\n",
    "**name**:\n",
    "\n",
    "\n",
    "note：\n",
    "---\n",
    "1. 带有\\*的题目，申请免上课的同学，必须完成，其他同学选作；\n",
    "2. 请独立完成，如求助了他人或者大模型，请著明，并且不可省略算法分析部分；\n",
    "4. 如若作答有雷同，全部取消成绩；\n",
    "3. 需要书面作答的题目，可以通过引用图片的形式添加，但是注意上传项目时包含所引用的图片的源文件；\n",
    "4. $log_n$ 默认表示$log_2{n}$;"
   ]
  },
  {
   "cell_type": "markdown",
   "metadata": {},
   "source": [
    "## 问题 1  \n",
    "\n",
    "请证明基于比较的排序算法计算复杂度下界为$\\Omega(nlogn)$"
   ]
  },
  {
   "cell_type": "markdown",
   "metadata": {},
   "source": [
    "you can refer a handwritten picture, pleas upload the picture in /fig/xxx.png\n",
    "answer：排序算法只能通过比较两个元素的大小关系来决定接下来的操作，每次比较只有大于小于两种结果\n"
    "整个排序过程可以作为一个二叉决策树，每一个节点表示一个比较操作，比较操作的次数等于树的高度，因此整个排序过程的高度等于$log_2{n}$，因此整个排序过程的时间复杂度为$\\Omega(nlogn)$"
   ]
  },
  {
   "cell_type": "markdown",
   "metadata": {},
   "source": [
    "## 问题 2 \n",
    "\n",
    "构建二叉搜索树\n",
    "\n",
    "> 1. 给定一个数组 [48, 33, 49, 47, 42, 46, 32], 构建一个二叉搜索树存储这些数据，请**绘制**所构建的**二叉搜索树**（标明结点的值）。\n",
    "> 2. 从第1问的二叉搜索树中删除33，请**绘制**删除33后的**二叉搜索树**（标明结点的值）\n",
    "\n",
    "- 推荐使用graphviz包绘制树的结构"
   ]
  },
  {
   "cell_type": "markdown",
   "metadata": {},
   "source": [
    "you can refer a handwritten picture, pleas upload the picture in /fig/xxx.png\n",
    "answer："
   ]
  },
  {
   "cell_type": "markdown",
   "metadata": {},
   "source": [
    "## 问题 3 \n",
    "\n",
    "> 下面是九门课程的开始和结束时间:\n",
    ">\n",
    "> [(9:00,12:30), (11:00,14:00), (13:00, 14:30), (9:00,10:30),(13:00, 14:30),(14:00,16:30), (15:00,16:30), (15:00,16:30), (9:00,10:30)]\n",
    ">\n",
    "> 请使用贪婪算法为这九门课分配教室，要求在同一天内安排这些课，并且每个教室同一时间只能安排一门课。\n",
    "\n",
    "**请问最少需要几间教室，罗列出每个教室安排的课程**"
   ]
  },
  {
   "cell_type": "markdown",
   "metadata": {},
   "source": [
    "idea：按课程开始时间排序：
按课程的开始时间对所有课程进行排序，这样可以确保课程在时间上是递增的。使用优先队列来追踪每个教室当前的结束时间。每次我们尝试安排一门课时，我们检查所有教室中，最早结束的教室是否可以安排新课程。如果能安排，就更新该教室的结束时间。如果不能安排，就需要新开一间教室。每一门课程，查找最早结束的教室（即结束时间最小的教室），如果这门课程的开始时间晚于该教室的结束时间，就将这门课安排到该教室并更新该教室的结束时间；否则，分配给新的教室。
最少需要 4 间教室。
教室 1: [(9:0, 12:30), (13:0, 14:30)]
教室 2: [(9:0, 10:30), (13:0, 14:30)]
教室 3: [(11:0, 14:0), (14:0, 16:30)]
教室 4: [(15:0, 16:30), (15:0, 16:30)]"
   ]
  },
  {
   "cell_type": "code",
   "execution_count": null,
   "metadata": {
    "vscode": {
     "languageId": "plaintext"
    }
   },
   "outputs": [],
   "source": [
    "code："
    "import heapq

# 课程列表 [(开始时间, 结束时间)]
courses = [
    ("9:00", "12:30"), ("11:00", "14:00"), ("13:00", "14:30"), ("9:00", "10:30"),
    ("13:00", "14:30"), ("14:00", "16:30"), ("15:00", "16:30"), ("15:00", "16:30"),
    ("9:00", "10:30")
]

# 将时间转换为分钟数
def time_to_minutes(time):
    hours, minutes = map(int, time.split(":"))
    return hours * 60 + minutes

# 将课程的开始和结束时间转换为分钟表示
courses = [(time_to_minutes(start), time_to_minutes(end)) for start, end in courses]

# 按开始时间排序课程
courses.sort()

# 用最小堆（优先队列）来跟踪每个教室的结束时间
classrooms = []

# 记录每个教室的课程安排
classroom_schedule = []

# 贪心算法分配课程
for start, end in courses:
    # 如果最早结束的教室结束时间小于当前课程的开始时间，则可以安排这门课
    if classrooms and classrooms[0][0] <= start:
        # 弹出最早结束的教室
        earliest_end, index = heapq.heappop(classrooms)
        classrooms.append((end, index))  # 重新加入更新后的结束时间
        classroom_schedule[index].append((start, end))
    else:
        # 新开一个教室
        index = len(classrooms)
        classrooms.append((end, index))
        classroom_schedule.append([(start, end)])

# 输出结果
print(f"最少需要 {len(classrooms)} 间教室。")
for i, schedule in enumerate(classroom_schedule):
    print(f"教室 {i+1}: {schedule}")
"
   ]
  },
  {
   "cell_type": "markdown",
   "metadata": {},
   "source": [
    "## 问题 4 \n",
    "\n",
    "> 爬楼梯问题：假设爬楼梯时你每次只能爬一阶或者爬两阶，问爬上n阶的楼梯，你一共有多少种方法\n",
    "\n",
    "请设计算法完成该问题，分析算法设计思路，计算时间复杂度，并基于python编程实现"
   ]
  },
  {
   "cell_type": "markdown",
   "metadata": {},
   "source": [
    "idea：大模型 dp"
   ]
  },
  {
   "cell_type": "code",
   "execution_count": null,
   "metadata": {},
   "outputs": [],
   "source": [
    "# add your code here\n",
    "def climbStairs(n):
    # 特殊情况处理
    if n == 0:
        return 0
    elif n == 1:
        return 1

    # 初始化 dp 数组
    dp = [0] * (n + 1)
    dp[0] = 1  # 站在底部，一种方法
    dp[1] = 1  # 爬到第一阶，一种方法

    # 填充 dp 数组
    for i in range(2, n + 1):
        dp[i] = dp[i - 1] + dp[i - 2]

    # 返回爬到第 n 阶的方法数
    return dp[n]
"
    "# your algorithm time complexity is: O(n)"
   ]
  },
  {
   "cell_type": "markdown",
   "metadata": {},
   "source": [
    "## 问题 5 \n",
    "\n",
    "> 0-1背包问题：现在有4块大理石，每个大理石对应的重量和价值使用一个元组表示, 即（重量，价值），4块大理石的重量和价值为：[(5,10), (4,40), (6,30), (3, 50)], 假设你有一辆最大承重为9的小推车，请问使用这个小推车装大理石的最大价值为多少\n",
    "\n",
    "请设计一个算法解决该问题，分析算法设计思路，计算时间复杂度，并基于python编程实现"
   ]
  },
  {
   "cell_type": "markdown",
   "metadata": {},
   "source": [
    "idea：大模型 dp"
   ]
  },
  {
   "cell_type": "code",
   "execution_count": null,
   "metadata": {},
   "outputs": [],
   "source": [
    "# add your code here\n",
    "def knapsack(items, capacity):
    n = len(items)
    # dp[i][j] 表示前 i 个物品，容量为 j 的情况下能得到的最大价值
    dp = [[0] * (capacity + 1) for _ in range(n + 1)]

    # 填充 dp 数组
    for i in range(1, n + 1):
        weight, value = items[i - 1]  # 获取当前物品的重量和价值
        for j in range(0, capacity + 1):
            if j < weight:
                dp[i][j] = dp[i - 1][j]  # 当前物品不能放入背包
            else:
                dp[i][j] = max(dp[i - 1][j], dp[i - 1][j - weight] + value)  # 放入或不放入物品

    return dp[n][capacity]  # 返回最大价值
items = [(5, 10), (4, 40), (6, 30), (3, 50)]  # 物品的重量和价值
capacity = 9  # 背包的最大承重

# 输出最大价值
print(knapsack(items, capacity))  # 输出：90
"
    "# your algorithm time complexity is:O(n*W)"
   ]
  },
  {
   "cell_type": "markdown",
   "metadata": {},
   "source": [
    "## 问题 6 \n",
    "给定 `n` 个非负整数表示每个宽度为 `1` 的柱子的高度图，计算按此排列的柱子，下雨之后能接多少雨水。\n",
    "\n",
    "\n",
    "\n",
    "<div style=\"text-align:center;width:800px;\"> <img alt=\"\" src=\"./fig/hw3q6.png\"> </div>\n",
    "\n",
    "请分析算法设计思路，计算时间复杂度，并基于python编程实现"
   ]
  },
  {
   "cell_type": "markdown",
   "metadata": {},
   "source": [
    "idea：找出每个柱子能够接到的水量，而这个水量取决于该柱子两侧的最高柱子"
   ]
  },
  {
   "cell_type": "code",
   "execution_count": null,
   "metadata": {},
   "outputs": [],
   "source": [
    "# add your code here\n",
    "def trap(height):
    if not height:
        return 0

    left, right = 0, len(height) - 1  # 初始化左右指针
    left_max, right_max = 0, 0  # 左右的最大高度
    water_trapped = 0  # 存储总的接水量

    while left <= right:
        if height[left] <= height[right]:
            if height[left] >= left_max:
                left_max = height[left]  # 更新左边的最大高度
            else:
                water_trapped += left_max - height[left]  # 计算水量
            left += 1  # 移动左指针
        else:
            if height[right] >= right_max:
                right_max = height[right]  # 更新右边的最大高度
            else:
                water_trapped += right_max - height[right]  # 计算水量
            right -= 1  # 移动右指针

    return water_trapped

# 示例输入
height = [0,1,0,2,1,0,1,3,2,1,2,1]
print(trap(height))  # 输出：6
"
    "# your algorithm time complexity is:O(n)"
   ]
  },
  {
   "cell_type": "markdown",
   "metadata": {},
   "source": [
    "## 问题 7 \n",
    "\n",
    "**股票投资组合优化**： 假设你是一位投资者，想要在不同的股票中分配你的资金，以最大化你的投资回报。每只股票都有不同的预期收益率和风险。你的目标是选择一些股票，使得总投资金额不超过你的预算，并且预期收益最大化。\n",
    "\n",
    "在这个情况下，你可以将每只股票视为一个“物品”，其重量为投资金额，价值为预期收益率。然后，你可以使用分级背包问题的方法来选择部分股票，以便在预算内获得最大的预期收益。\n",
    "\n",
    "以下是一个简化的例子：\n",
    "\n",
    "假设你有以下三只股票可供选择：\n",
    "\n",
    "1. 股票 A：投资金额 5000 美元，预期收益率 10%\n",
    "2. 股票 B：投资金额 3000 美元，预期收益率 8%\n",
    "3. 股票 C：投资金额 2000 美元，预期收益率 12%\n",
    "\n",
    "请设计算法找到最优投资方案，分析算法设计思路，计算时间复杂度，并基于python编程实现"
   ]
  },
  {
   "cell_type": "markdown",
   "metadata": {},
   "source": [
    "idea：大模型 dp"
   ]
  },
  {
   "cell_type": "code",
   "execution_count": null,
   "metadata": {},
   "outputs": [],
   "source": [
    "# add your code here\n",
    "def stock_investment(stocks, budget):
    n = len(stocks)
    # DP数组，dp[i]表示预算为i时的最大收益
    dp = [0] * (budget + 1)

    # 遍历每只股票
    for i in range(n):
        cost, profit = stocks[i]
        # 从后向前更新DP数组，防止重复选择同一只股票
        for j in range(budget, cost - 1, -1):
            dp[j] = max(dp[j], dp[j - cost] + profit)

    return dp[budget]

# 示例输入
stocks = [(5000, 10), (3000, 8), (2000, 12)]  # (投资金额, 预期收益率)
budget = 8000  # 总预算

# 输出最优投资方案的最大收益
print(stock_investment(stocks, budget))  # 输出：20
"
    "# your algorithm time complexity is:O(n*c)"
   ]
  },
  {
   "cell_type": "markdown",
   "metadata": {},
   "source": [
    "## 问题 8\n",
    "\n",
    "给你二叉搜索树的根节点 root ，该树中的恰好两个节点的值被错误地交换。请在不改变其结构的情况下，恢复这棵树 。设计算法解决该问题，分析算法设计思路，计算时间复杂度，并基于python编程实现\n",
    "\n",
    "e.g.:\n",
    "---\n",
    "1.\n",
    "\n",
    "<div style=\"text-align:center;width:200px;\"> <img alt=\"\" src=\"./fig/hw3q9-1.jpg\"> </div>\n",
    "输入：root = [1,3,null,null,2]， 输出为：[3,1,null,null,2]， \n",
    "\n",
    "解释：3 不能是 1 的左孩子，因为 3 > 1 。交换 1 和 3 使二叉搜索树有效。\n",
    "\n",
    "2.\n",
    "\n",
    " <div style=\"text-align:center;width:200px;\"> <img alt=\"\" src=\"./fig/hw3q9-1.jpg\"> </div>\n",
    "输入： root=[3,1,4,null,null,2]， 输出为：[2,1,4,null,null,3]\n",
    "\n",
    "解释：2 不能在 3 的右子树中，因为 2 < 3 。交换 2 和 3 使二叉搜索树有效。"
   ]
  },
  {
   "cell_type": "markdown",
   "metadata": {},
   "source": [
    "idea：\n大模型 "
   ]
  },
  {
   "cell_type": "code",
   "execution_count": null,
   "metadata": {},
   "outputs": [],
   "source": [
    "# add your code here\n",
    "class TreeNode:
    def __init__(self, val=0, left=None, right=None):
        self.val = val
        self.left = left
        self.right = right

def recoverTree(root):
    # 初始化需要的变量
    node1, node2, prev = None, None, None

    # 中序遍历函数
    def inorder(node):
        nonlocal node1, node2, prev

        if node is None:
            return

        # 递归左子树
        inorder(node.left)

        # 判断是否违反二叉搜索树的性质
        if prev and prev.val > node.val:
            if not node1:
                node1 = prev  # 第一个错误节点
            node2 = node  # 第二个错误节点

        prev = node  # 更新前一个节点为当前节点

        # 递归右子树
        inorder(node.right)

    # 执行中序遍历
    inorder(root)

    # 交换两个错误的节点值
    if node1 and node2:
        node1.val, node2.val = node2.val, node1.val

# 辅助函数：创建二叉树
def create_tree(lst):
    if not lst:
        return None
    root = TreeNode(lst[0])
    queue = [root]
    idx = 1
    while queue:
        node = queue.pop(0)
        if idx < len(lst) and lst[idx] is not None:
            node.left = TreeNode(lst[idx])
            queue.append(node.left)
        idx += 1
        if idx < len(lst) and lst[idx] is not None:
            node.right = TreeNode(lst[idx])
            queue.append(node.right)
        idx += 1
    return root

# 辅助函数：打印树的中序遍历
def inorder_traversal(root):
    if root is None:
        return []
    return inorder_traversal(root.left) + [root.val] + inorder_traversal(root.right)

# 示例1
root1 = create_tree([1, 3, None, None, 2])
recoverTree(root1)
print(inorder_traversal(root1))  # 输出： [1, 2, 3]

# 示例2
root2 = create_tree([3, 1, 4, None, None, 2])
recoverTree(root2)
print(inorder_traversal(root2))  # 输出： [1, 2, 3, 4]
"
    "# your algorithm time complexity is: O(n)"
   ]
  },
  {
   "cell_type": "markdown",
   "metadata": {},
   "source": [
    "## 问题 9  \n",
    "\n",
    "给你一个二叉树的根节点 root ，树中每个节点都存放有一个 0 到 9 之间的数字。每条从根节点到叶节点的路径都代表一个数字：\n",
    "\n",
    "> 例如，从根节点到叶节点的路径 1 -> 2 -> 3 表示数字 123 。\n",
    "\n",
    "设计一个算法计算从根节点到叶节点生成的所有数字之和 ，分析算法设计思路，计算时间复杂度，并基于python编程实现\n",
    "\n",
    "叶节点:是指没有子节点的节点。\n",
    "\n",
    "e.g.:\n",
    "---\n",
    "1.\n",
    "\n",
    " <div style=\"text-align:center;width:200px;\"> <img alt=\"figure\" src=\"./fig/hw3q10-1.jpg\"> </div>\n",
    "\n",
    " 输入：root = [1,2,3], 输出：25\n",
    "\n",
    "解释：从根到叶子节点路径 1->2 代表数字 12，1->3 代表数字 13，因此和为 12 + 13 = 25 。\n",
    "\n",
    "2.\n",
    "\n",
    " <div style=\"text-align:center;width:200px;\"> <img alt=\"figure\" src=\"./fig/hw3q10-2.jpg\"> </div>\n",
    "\n",
    " 输入：root = [4,9,0,5,1], 输出：1026\n",
    "\n",
    "解释：从根到叶子节点路径 4->9->5 代表数字 495，4->9->1 代表数字 491，4->0 代表数字 40。因此和为 495 + 491 + 40 = 1026 。"
   ]
  },
  {
   "cell_type": "markdown",
   "metadata": {},
   "source": [
    "idea："
   ]
  },
  {
   "cell_type": "code",
   "execution_count": null,
   "metadata": {},
   "outputs": [],
   "source": [
    "# add your code here\n",
    "# your algorithm time complexity is:"
   ]
  },
  {
   "cell_type": "markdown",
   "metadata": {},
   "source": [
    "## 问题 10  \n",
    "\n",
    "给你一个二叉树的根节点 root ， 检查它是否轴对称。\n",
    "\n",
    "1. 分析算法设计思路，计算时间复杂度，并基于python编程实现\n",
    "2. \\* 设计使用递归和迭代两种方法解决这个问题，计算时间复杂度，并基于python编程实现\n",
    "\n",
    "e.g.:\n",
    "---\n",
    "1.\n",
    "\n",
    " <div style=\"text-align:center;width:200px;\"> <img alt=\"figure\" src=\"./fig/hw3q11-1.png\"> </div>\n",
    "\n",
    " 输入：root = [1,2,2,3,4,4,3]， 输出：true\n",
    "\n",
    "解释：二叉树 [1,2,2,3,4,4,3] 对称。\n",
    "\n",
    "2.\n",
    "\n",
    " <div style=\"text-align:center;width:200px;\"> <img alt=\"figure\" src=\"./fig/hw3q11-2.png\"> </div>\n",
    "\n",
    " 输入：root = [1,2,2,null,3,null,3]， 输出：false"
   ]
  },
  {
   "cell_type": "markdown",
   "metadata": {},
   "source": [
    "idea 大模型 使用队列来模拟递归过程，进行层次遍历检查树的左右子树是否对称。每次将节点的左右子树分别入队列进行比较。"
   ]
  },
  {
   "cell_type": "code",
   "execution_count": null,
   "metadata": {},
   "outputs": [],
   "source": [
    "# add your code here\n",
    "from collections import deque

def isSymmetricIterative(root: TreeNode) -> bool:
    if not root:
        return True

    queue = deque([root.left, root.right])

    while queue:
        t1 = queue.popleft()
        t2 = queue.popleft()

        if not t1 and not t2:
            continue
        if not t1 or not t2:
            return False
        if t1.val != t2.val:
            return False

        queue.append(t1.left)
        queue.append(t2.right)
        queue.append(t1.right)
        queue.append(t2.left)

    return True

# 测试示例
print(isSymmetricIterative(root1))  # 输出：True
print(isSymmetricIterative(root2))  # 输出：False
"
    "# your algorithm time complexity is:O(n)"
   ]
  },
  {
   "cell_type": "markdown",
   "metadata": {},
   "source": [
    "## 问题 11  \n",
    "\n",
    "给你一个由 '1'（陆地）和 '0'（水）组成的的二维网格，请你计算网格中岛屿的数量。岛屿总是被水包围，并且每座岛屿只能由水平方向和/或竖直方向上相邻的陆地连接形成。\n",
    "\n",
    "此外，你可以假设该网格的四条边均被水包围。\n",
    "\n",
    "分析算法设计思路，计算时间复杂度，并基于python编程实现\n",
    "\n",
    "e.g.:\n",
    "---\n",
    "1.\n",
    "输入：grid = [\n",
    "\n",
    "    [\"1\",\"1\",\"1\",\"1\",\"0\"],\n",
    "\n",
    "    [\"1\",\"1\",\"0\",\"1\",\"0\"], \n",
    "\n",
    "    [\"1\",\"1\",\"0\",\"0\",\"0\"], \n",
    "\n",
    "    [\"0\",\"0\",\"0\",\"0\",\"0\"]  \n",
    "\n",
    "]\n",
    "\n",
    "输出：1\n",
    "\n",
    "2.\n",
    "输入：grid = [\n",
    "\n",
    "    [\"1\",\"1\",\"0\",\"0\",\"0\"],\n",
    "\n",
    "    [\"1\",\"1\",\"0\",\"0\",\"0\"],\n",
    "\n",
    "    [\"0\",\"0\",\"1\",\"0\",\"0\"],\n",
    "\n",
    "    [\"0\",\"0\",\"0\",\"1\",\"1\"]\n",
    "\n",
    "]\n",
    "\n",
    "输出：3"
   ]
  },
  {
   "cell_type": "markdown",
   "metadata": {},
   "source": [
    "idea:DFS每次发现一个新的岛屿（即遇到一个'1'），就通过递归的方式标记所有与其相连的陆地为'0'，避免重复计数。"
   ]
  },
  {
   "cell_type": "code",
   "execution_count": null,
   "metadata": {},
   "outputs": [],
   "source": [
    "# add your code here\n",
    "def numIslands(grid):
    if not grid:
        return 0

    def dfs(i, j):
        # 如果越界或者当前为水 ('0')，返回
        if i < 0 or i >= len(grid) or j < 0 or j >= len(grid[0]) or grid[i][j] == '0':
            return

        # 标记当前陆地为已访问
        grid[i][j] = '0'

        # 递归访问相邻的陆地
        dfs(i+1, j)  # 下
        dfs(i-1, j)  # 上
        dfs(i, j+1)  # 右
        dfs(i, j-1)  # 左

    island_count = 0
    for i in range(len(grid)):
        for j in range(len(grid[0])):
            if grid[i][j] == '1':  # 发现一个新的岛屿
                island_count += 1
                dfs(i, j)  # 深度优先搜索，标记当前岛屿

    return island_count"
    "# your algorithm time complexity is:"
   ]
  }
 ],
 "metadata": {
  "language_info": {
   "name": "python"
  }
 },
 "nbformat": 4,
 "nbformat_minor": 2
}
